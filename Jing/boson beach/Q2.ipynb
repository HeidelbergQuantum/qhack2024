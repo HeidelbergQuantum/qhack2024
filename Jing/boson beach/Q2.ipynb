{
 "cells": [
  {
   "cell_type": "code",
   "execution_count": 53,
   "metadata": {},
   "outputs": [],
   "source": [
    "import json\n",
    "import pennylane as qml\n",
    "import pennylane.numpy as np\n",
    "\n",
    "def potential_energy_surface(symbols, bond_lengths):\n",
    "    \"\"\"Calculates the molecular energy over various bond lengths (AKA the \n",
    "    potential energy surface) using the Hartree Fock method.\n",
    "    \n",
    "    Args:\n",
    "        symbols (list(string)): \n",
    "            A list of atomic symbols that comprise the diatomic molecule of interest.\n",
    "        bond_lengths (numpy.tensor): Bond lengths to calculate the energy over.\n",
    "\n",
    "        \n",
    "    Returns:\n",
    "        hf_energies (numpy.tensor): \n",
    "            The Hartree Fock energies at every bond length value.\n",
    "    \"\"\"\n",
    "\n",
    "\n",
    "    hf_energies = []\n",
    "    #alpha = np.array([[3.42525091, 0.62391373, 0.1688554],[3.42525091, 0.62391373, 0.1688554]], requires_grad=True)\n",
    "    #args = [alpha]\n",
    "    # Put your code here #\n",
    "    for i in bond_lengths:\n",
    "        geometry = np.array([[0.,0.,0.],[0.,0.,i]], requires_grad=False)\n",
    "        mol = qml.qchem.Molecule(symbols, geometry, basis_name = 'sto-3g')\n",
    "        hf_energies.append(qml.qchem.hf_energy(mol)())\n",
    "    return np.array(hf_energies)\n",
    "\n",
    "\n",
    "def ground_energy(hf_energies):\n",
    "    \"\"\"Finds the minimum energy of a molecule given its potential energy surface.\n",
    "    \n",
    "    Args: \n",
    "        hf_energies (numpy.tensor): \n",
    "\n",
    "    Returns:\n",
    "        (float): The minumum energy in units of hartrees.\n",
    "    \"\"\"\n",
    "\n",
    "    ind = np.argmin(hf_energies)\n",
    "    return hf_energies[ind]\n",
    "\n",
    "\n"
   ]
  },
  {
   "cell_type": "code",
   "execution_count": 59,
   "metadata": {},
   "outputs": [],
   "source": [
    "def reaction():\n",
    "    \"\"\"Calculates the energy of the reactants, the activation energy, and the energy of \n",
    "    the products in that order.\n",
    "\n",
    "    Returns:\n",
    "        (numpy.tensor): [E_reactants, E_activation, E_products]\n",
    "    \"\"\"\n",
    "    molecules = {\n",
    "        \"H2\": \n",
    "            {\"symbols\": [\"H\", \"H\"], \"E0\": 0, \"E_dissociation\": 0, \"bond lengths\": np.arange(0.5, 9.3, 0.3)}, \n",
    "        \"Li2\": \n",
    "            {\"symbols\": [\"Li\", \"Li\"], \"E0\": 0, \"E_dissociation\": 0, \"bond lengths\": np.arange(3.5, 8.3, 0.3)}, \n",
    "        \"LiH\": \n",
    "            {\"symbols\": [\"Li\", \"H\"], \"E0\": 0, \"E_dissociation\": 0, \"bond lengths\": np.arange(2.0, 6.6, 0.3)}\n",
    "    }\n",
    "\n",
    "\n",
    "    for molecule in molecules.keys():\n",
    "        # Put your code here # \n",
    "        E = potential_energy_surface(molecules[molecule]['symbols'], molecules[molecule]['bond lengths'])\n",
    "        molecules[molecule]['E0'] = ground_energy(E)\n",
    "        molecules[molecule]['E_dissociation'] = E[-1]\n",
    "        # populate each molecule's E0 and E_dissociation values\n",
    "    # Calculate the following and don't forget to balance the chemical reaction!\n",
    "    E_reactants = molecules[\"H2\"]['E0']+molecules[\"Li2\"]['E0']\n",
    "    E_activation = molecules[\"H2\"]['E_dissociation']+molecules[\"Li2\"]['E_dissociation']\n",
    "    E_products = molecules[\"LiH\"]['E0']*2\n",
    "\n",
    "    return np.array([E_reactants, E_activation, E_products])"
   ]
  },
  {
   "cell_type": "code",
   "execution_count": 57,
   "metadata": {},
   "outputs": [
    {
     "name": "stdout",
     "output_type": "stream",
     "text": [
      "[-0.40332644 -0.94730793 -1.0945641  -1.11671433 -1.09200585 -1.0491709\n",
      " -0.99964323 -0.94904315 -0.90060359 -0.85609692 -0.81634416 -0.78156784\n",
      " -0.75161246 -0.72609682 -0.70453368 -0.68641593 -0.67126398 -0.65864203\n",
      " -0.64815813 -0.63946079 -0.63223745 -0.626215   -0.62116033 -0.61687936\n",
      " -0.6132142  -0.6100389  -0.6072544  -0.6047836  -0.60256683 -0.60055796]\n"
     ]
    }
   ],
   "source": [
    "for i in molecules.keys():\n",
    "    E = potential_energy_surface(molecules[str(i)]['symbols'], molecules[str(i)]['bond lengths'])\n",
    "    print(E)"
   ]
  },
  {
   "cell_type": "code",
   "execution_count": 60,
   "metadata": {},
   "outputs": [],
   "source": [
    "reaction()"
   ]
  },
  {
   "cell_type": "code",
   "execution_count": 55,
   "metadata": {},
   "outputs": [],
   "source": [
    "molecules = {\n",
    "        \"H2\": \n",
    "            {\"symbols\": [\"H\", \"H\"], \"E0\": 0, \"E_dissociation\": 0, \"bond lengths\": np.arange(0.5, 9.3, 0.3)}, \n",
    "         \n",
    "    }"
   ]
  },
  {
   "cell_type": "code",
   "execution_count": 56,
   "metadata": {},
   "outputs": [
    {
     "data": {
      "text/plain": [
       "{'H2': {'symbols': ['H', 'H'],\n",
       "  'E0': 0,\n",
       "  'E_dissociation': 0,\n",
       "  'bond lengths': tensor([0.5, 0.8, 1.1, 1.4, 1.7, 2. , 2.3, 2.6, 2.9, 3.2, 3.5, 3.8, 4.1,\n",
       "          4.4, 4.7, 5. , 5.3, 5.6, 5.9, 6.2, 6.5, 6.8, 7.1, 7.4, 7.7, 8. ,\n",
       "          8.3, 8.6, 8.9, 9.2], requires_grad=True)}}"
      ]
     },
     "execution_count": 56,
     "metadata": {},
     "output_type": "execute_result"
    }
   ],
   "source": [
    "molecules"
   ]
  },
  {
   "cell_type": "code",
   "execution_count": null,
   "metadata": {},
   "outputs": [],
   "source": []
  }
 ],
 "metadata": {
  "kernelspec": {
   "display_name": "base",
   "language": "python",
   "name": "python3"
  },
  "language_info": {
   "codemirror_mode": {
    "name": "ipython",
    "version": 3
   },
   "file_extension": ".py",
   "mimetype": "text/x-python",
   "name": "python",
   "nbconvert_exporter": "python",
   "pygments_lexer": "ipython3",
   "version": "3.11.5"
  }
 },
 "nbformat": 4,
 "nbformat_minor": 2
}
