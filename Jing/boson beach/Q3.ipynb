{
 "cells": [
  {
   "cell_type": "code",
   "execution_count": 1,
   "metadata": {},
   "outputs": [],
   "source": [
    "import json\n",
    "import pennylane as qml\n",
    "import pennylane.numpy as np"
   ]
  },
  {
   "cell_type": "code",
   "execution_count": 78,
   "metadata": {},
   "outputs": [],
   "source": [
    "num_wires = 5\n",
    "dev = qml.device(\"default.qubit\", wires = num_wires)\n",
    "\n",
    "@qml.qnode(dev)\n",
    "def circuit():\n",
    "    \"\"\"\n",
    "    Circuit in which you will prepare the Bell state with the allowed gates.\n",
    "    \"\"\"\n",
    "    \n",
    "    qml.Hadamard(0)\n",
    "    qml.QFT(wires=[2,1,0])\n",
    "    qml.QFT(wires=[2,1,0])\n",
    "    qml.QFT(wires=[4,3,2])\n",
    "    qml.QFT(wires=[4,3,2])\n",
    "    \n",
    "    return qml.probs(wires = range(num_wires))"
   ]
  },
  {
   "cell_type": "code",
   "execution_count": 79,
   "metadata": {},
   "outputs": [
    {
     "data": {
      "text/plain": [
       "tensor([5.00000000e-01, 1.72517329e-32, 1.21988837e-32, 1.12446045e-31,\n",
       "        6.07001114e-33, 5.66689480e-32, 1.39201820e-32, 9.23834489e-31,\n",
       "        5.36989442e-32, 1.00561038e-61, 2.79133816e-62, 1.02685612e-60,\n",
       "        2.70731046e-62, 1.97243695e-61, 4.85151257e-62, 1.07081517e-30,\n",
       "        3.55135645e-32, 2.60940512e-62, 1.16210431e-62, 2.53644472e-61,\n",
       "        1.57881318e-63, 4.64397434e-62, 8.84247632e-63, 2.66484729e-31,\n",
       "        7.79066167e-32, 4.49625286e-32, 2.34114696e-32, 5.00895652e-31,\n",
       "        6.37468221e-33, 1.08690808e-31, 2.82290472e-32, 5.00000000e-01], requires_grad=True)"
      ]
     },
     "execution_count": 79,
     "metadata": {},
     "output_type": "execute_result"
    }
   ],
   "source": [
    "circuit()"
   ]
  },
  {
   "cell_type": "code",
   "execution_count": null,
   "metadata": {},
   "outputs": [],
   "source": [
    "\n",
    "    "
   ]
  }
 ],
 "metadata": {
  "kernelspec": {
   "display_name": "base",
   "language": "python",
   "name": "python3"
  },
  "language_info": {
   "codemirror_mode": {
    "name": "ipython",
    "version": 3
   },
   "file_extension": ".py",
   "mimetype": "text/x-python",
   "name": "python",
   "nbconvert_exporter": "python",
   "pygments_lexer": "ipython3",
   "version": "3.11.5"
  }
 },
 "nbformat": 4,
 "nbformat_minor": 2
}
