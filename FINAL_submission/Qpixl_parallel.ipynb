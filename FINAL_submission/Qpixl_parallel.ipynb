{
 "cells": [
  {
   "cell_type": "code",
   "execution_count": 1,
   "metadata": {},
   "outputs": [],
   "source": [
    "from QPIXL_qiskit.helper import *\n",
    "from QPIXL_qiskit.qpixl_parallel import *\n",
    "from qiskit.visualization import *\n",
    "from qiskit_aer import StatevectorSimulator\n",
    "import qiskit \n",
    "backend = StatevectorSimulator(method=\"statevector\")"
   ]
  },
  {
   "cell_type": "code",
   "execution_count": 2,
   "metadata": {},
   "outputs": [
    {
     "name": "stdout",
     "output_type": "stream",
     "text": [
      "(32, 32) (32, 32)\n"
     ]
    }
   ],
   "source": [
    "from PIL import Image\n",
    "import matplotlib.pyplot as plt\n",
    "img = Image.open('figures/creation_world.png')\n",
    "img = img.convert('L')\n",
    "img = np.array(img.resize((32,32), Image.Resampling.LANCZOS))\n",
    "img2 = Image.open('figures/cat.webp')\n",
    "img2 = img2.convert('L')\n",
    "img2 = np.array(img2.resize((32,32), Image.Resampling.LANCZOS))\n",
    "print(img2.shape,img.shape)"
   ]
  },
  {
   "cell_type": "code",
   "execution_count": 25,
   "metadata": {},
   "outputs": [
    {
     "name": "stdout",
     "output_type": "stream",
     "text": [
      "10\n",
      "[1, 2, 3]\n",
      "[0, 2, 3]\n",
      "[0, 1, 3]\n",
      "[0, 1, 2]\n"
     ]
    }
   ],
   "source": [
    "shape = img.shape\n",
    "np_frame = [np.array(img).T.flatten(),np.array(img2).T.flatten(),np.flip(np.array(img2).T.flatten()),np.flip(np.array(img2)).flatten()] #sometimes you have to transpose the image for the decoding to make sense\n",
    "decoded_data = []\n",
    "labels = []\n",
    "comp_str = \"Compression: \"+str(0)+\"% \\n\"\n",
    "qc = cFRQI(np_frame,0)\n",
    "job = backend.run(qc)\n",
    "depth_str = \" Circuit depth: \"+str(qc.depth())\n",
    "#### Just for show\n",
    "sv = np.real(job.result().get_statevector())\n",
    "decoded = decodeParallelQPIXL(sv,qc,len(np_frame))\n",
    "for datum in decoded:\n",
    "    decoded_data.append(reconstruct_img(datum, shape))\n",
    "labels.append(comp_str+depth_str)\n"
   ]
  },
  {
   "cell_type": "code",
   "execution_count": 29,
   "metadata": {},
   "outputs": [
    {
     "data": {
      "text/plain": [
       "<matplotlib.image.AxesImage at 0x7fd8cbba1050>"
      ]
     },
     "execution_count": 29,
     "metadata": {},
     "output_type": "execute_result"
    },
    {
     "data": {
      "image/png": "[encoded data removed]",
      "text/plain": [
       "<Figure size 640x480 with 1 Axes>"
      ]
     },
     "metadata": {},
     "output_type": "display_data"
    }
   ],
   "source": [
    "plt.imshow(decoded_data[3])"
   ]
  },
  {
   "cell_type": "code",
   "execution_count": 4,
   "metadata": {},
   "outputs": [],
   "source": [
    "def permute_bits(b,bitlength=8,shift=1):\n",
    "    b = bin(b)\n",
    "    b = b[2:].zfill(bitlength)\n",
    "    b = [b[(i + shift) % len(b)] for i in range(len(b))]\n",
    "    return int(''.join(b),2)"
   ]
  },
  {
   "cell_type": "code",
   "execution_count": 51,
   "metadata": {},
   "outputs": [
    {
     "name": "stdout",
     "output_type": "stream",
     "text": [
      "[1, 0, 2]\n"
     ]
    },
    {
     "data": {
      "text/plain": [
       "<matplotlib.image.AxesImage at 0x7fd8cb454310>"
      ]
     },
     "execution_count": 51,
     "metadata": {},
     "output_type": "execute_result"
    },
    {
     "data": {
      "image/png": "[encoded data removed]",
      "text/plain": [
       "<Figure size 640x480 with 1 Axes>"
      ]
     },
     "metadata": {},
     "output_type": "display_data"
    }
   ],
   "source": [
    "dataset = 3\n",
    "traced_over_qubits = [ qc.qubits.index(qubit) for qubit in [qc.qubits[other] for other in [1,0,2]] ]\n",
    "print(traced_over_qubits)\n",
    "density_matrix = qiskit.quantum_info.partial_trace(sv, traced_over_qubits)\n",
    "probs = density_matrix.probabilities()\n",
    "test = decodeQPIXL(probs)\n",
    "ordered = [test[permute_bits(i,len(qc.qubits)-len(np_frame),dataset)] for i in range(len(test))]\n",
    "plt.imshow(reconstruct_img(ordered, shape))"
   ]
  },
  {
   "cell_type": "code",
   "execution_count": 97,
   "metadata": {},
   "outputs": [],
   "source": []
  },
  {
   "cell_type": "code",
   "execution_count": 94,
   "metadata": {},
   "outputs": [
    {
     "name": "stdout",
     "output_type": "stream",
     "text": [
      "00000100\n",
      "['0', '0', '0', '0', '0', '0', '1', '0']\n"
     ]
    },
    {
     "data": {
      "text/plain": [
       "2"
      ]
     },
     "execution_count": 94,
     "metadata": {},
     "output_type": "execute_result"
    }
   ],
   "source": [
    "permute_bits(4)\n"
   ]
  },
  {
   "cell_type": "code",
   "execution_count": 259,
   "metadata": {},
   "outputs": [
    {
     "data": {
      "text/html": [
       "<pre style=\"word-wrap: normal;white-space: pre;background: #fff0;line-height: 1.1;font-family: &quot;Courier New&quot;,Courier,monospace\">     ┌────────────┐     ┌───┐ ┌──────────────┐     ┌───┐┌──────────────┐     »\n",
       "q_0: ┤ Ry(1.9717) ├─────┤ X ├─┤ Ry(0.021271) ├─────┤ X ├┤ Ry(-0.73467) ├─────»\n",
       "     ├────────────┤┌───┐└─┬─┘┌┴──────────────┤┌───┐└─┬─┘├──────────────┤┌───┐»\n",
       "q_1: ┤ Ry(1.9717) ├┤ X ├──┼──┤ Ry(-0.021271) ├┤ X ├──┼──┤ Ry(-0.73467) ├┤ X ├»\n",
       "     └───┬───┬────┘└─┬─┘  │  └───────────────┘└─┬─┘  │  └──────────────┘└─┬─┘»\n",
       "q_2: ────┤ H ├───────■────┼─────────────────────┼────┼────────────────────■──»\n",
       "         ├───┤            │                     │    │                       »\n",
       "q_3: ────┤ H ├────────────■─────────────────────■────┼───────────────────────»\n",
       "         ├───┤                                       │                       »\n",
       "q_4: ────┤ H ├───────────────────────────────────────■───────────────────────»\n",
       "         ├───┤                                                               »\n",
       "q_5: ────┤ H ├───────────────────────────────────────────────────────────────»\n",
       "         └───┘                                                               »\n",
       "«     ┌───┐┌──────────────┐     ┌───┐ ┌──────────────┐     ┌───┐»\n",
       "«q_0: ┤ X ├┤ Ry(-0.13254) ├─────┤ X ├─┤ Ry(0.057269) ├─────┤ X ├»\n",
       "«     └─┬─┘├─────────────┬┘┌───┐└─┬─┘┌┴──────────────┤┌───┐└─┬─┘»\n",
       "«q_1: ──┼──┤ Ry(0.13254) ├─┤ X ├──┼──┤ Ry(-0.057269) ├┤ X ├──┼──»\n",
       "«       │  └─────────────┘ └─┬─┘  │  └───────────────┘└─┬─┘  │  »\n",
       "«q_2: ──┼────────────────────┼────┼─────────────────────■────┼──»\n",
       "«       │                    │    │                          │  »\n",
       "«q_3: ──■────────────────────┼────┼──────────────────────────■──»\n",
       "«                            │    │                             »\n",
       "«q_4: ───────────────────────■────┼─────────────────────────────»\n",
       "«                                 │                             »\n",
       "«q_5: ────────────────────────────■─────────────────────────────»\n",
       "«                                                               »\n",
       "«     ┌──────────────┐     ┌───┐┌────────────┐     ┌───┐┌───────────────┐     »\n",
       "«q_0: ┤ Ry(0.044179) ├─────┤ X ├┤ Ry(-π/640) ├─────┤ X ├┤ Ry(-0.031089) ├─────»\n",
       "«     ├──────────────┤┌───┐└─┬─┘├───────────┬┘┌───┐└─┬─┘├───────────────┤┌───┐»\n",
       "«q_1: ┤ Ry(0.044179) ├┤ X ├──┼──┤ Ry(π/640) ├─┤ X ├──┼──┤ Ry(-0.031089) ├┤ X ├»\n",
       "«     └──────────────┘└─┬─┘  │  └───────────┘ └─┬─┘  │  └───────────────┘└─┬─┘»\n",
       "«q_2: ──────────────────┼────┼──────────────────■────┼─────────────────────┼──»\n",
       "«                       │    │                       │                     │  »\n",
       "«q_3: ──────────────────■────┼───────────────────────■─────────────────────┼──»\n",
       "«                            │                                             │  »\n",
       "«q_4: ───────────────────────■─────────────────────────────────────────────┼──»\n",
       "«                                                                          │  »\n",
       "«q_5: ─────────────────────────────────────────────────────────────────────■──»\n",
       "«                                                                             »\n",
       "«     ┌───┐┌─────────────┐     ┌───┐┌───────────────┐     ┌───┐┌─────────────┐»\n",
       "«q_0: ┤ X ├┤ Ry(-π/1920) ├─────┤ X ├┤ Ry(-0.040906) ├─────┤ X ├┤ Ry(-0.1489) ├»\n",
       "«     └─┬─┘├─────────────┤┌───┐└─┬─┘└┬──────────────┤┌───┐└─┬─┘├─────────────┤»\n",
       "«q_1: ──┼──┤ Ry(-π/1920) ├┤ X ├──┼───┤ Ry(0.040906) ├┤ X ├──┼──┤ Ry(-0.1489) ├»\n",
       "«       │  └─────────────┘└─┬─┘  │   └──────────────┘└─┬─┘  │  └─────────────┘»\n",
       "«q_2: ──■───────────────────■────┼─────────────────────┼────┼─────────────────»\n",
       "«                                │                     │    │                 »\n",
       "«q_3: ───────────────────────────■─────────────────────■────┼─────────────────»\n",
       "«                                                           │                 »\n",
       "«q_4: ──────────────────────────────────────────────────────■─────────────────»\n",
       "«                                                                             »\n",
       "«q_5: ────────────────────────────────────────────────────────────────────────»\n",
       "«                                                                             »\n",
       "«          ┌───┐┌───────────────┐     ┌───┐┌───────────────┐     ┌───┐»\n",
       "«q_0: ─────┤ X ├┤ Ry(-0.057269) ├─────┤ X ├┤ Ry(-0.017999) ├─────┤ X ├»\n",
       "«     ┌───┐└─┬─┘└┬──────────────┤┌───┐└─┬─┘└┬──────────────┤┌───┐└─┬─┘»\n",
       "«q_1: ┤ X ├──┼───┤ Ry(0.057269) ├┤ X ├──┼───┤ Ry(0.017999) ├┤ X ├──┼──»\n",
       "«     └─┬─┘  │   └──────────────┘└─┬─┘  │   └──────────────┘└─┬─┘  │  »\n",
       "«q_2: ──■────┼─────────────────────┼────┼─────────────────────■────┼──»\n",
       "«            │                     │    │                          │  »\n",
       "«q_3: ───────■─────────────────────┼────┼──────────────────────────■──»\n",
       "«                                  │    │                             »\n",
       "«q_4: ─────────────────────────────■────┼─────────────────────────────»\n",
       "«                                       │                             »\n",
       "«q_5: ──────────────────────────────────■─────────────────────────────»\n",
       "«                                                                     »\n",
       "«     ┌──────────────┐     ┌───┐┌────────────┐     ┌───┐┌──────────────┐     »\n",
       "«q_0: ┤ Ry(0.021271) ├─────┤ X ├┤ Ry(-π/384) ├─────┤ X ├┤ Ry(0.031089) ├─────»\n",
       "«     ├──────────────┤┌───┐└─┬─┘├───────────┬┘┌───┐└─┬─┘├──────────────┤┌───┐»\n",
       "«q_1: ┤ Ry(0.021271) ├┤ X ├──┼──┤ Ry(π/384) ├─┤ X ├──┼──┤ Ry(0.031089) ├┤ X ├»\n",
       "«     └──────────────┘└─┬─┘  │  └───────────┘ └─┬─┘  │  └──────────────┘└─┬─┘»\n",
       "«q_2: ──────────────────┼────┼──────────────────■────┼────────────────────┼──»\n",
       "«                       │    │                       │                    │  »\n",
       "«q_3: ──────────────────■────┼───────────────────────■────────────────────┼──»\n",
       "«                            │                                            │  »\n",
       "«q_4: ───────────────────────■────────────────────────────────────────────┼──»\n",
       "«                                                                         │  »\n",
       "«q_5: ────────────────────────────────────────────────────────────────────■──»\n",
       "«                                                                            »\n",
       "«     ┌───┐\n",
       "«q_0: ┤ X ├\n",
       "«     └─┬─┘\n",
       "«q_1: ──┼──\n",
       "«       │  \n",
       "«q_2: ──■──\n",
       "«          \n",
       "«q_3: ─────\n",
       "«          \n",
       "«q_4: ─────\n",
       "«          \n",
       "«q_5: ─────\n",
       "«          </pre>"
      ],
      "text/plain": [
       "     ┌────────────┐     ┌───┐ ┌──────────────┐     ┌───┐┌──────────────┐     »\n",
       "q_0: ┤ Ry(1.9717) ├─────┤ X ├─┤ Ry(0.021271) ├─────┤ X ├┤ Ry(-0.73467) ├─────»\n",
       "     ├────────────┤┌───┐└─┬─┘┌┴──────────────┤┌───┐└─┬─┘├──────────────┤┌───┐»\n",
       "q_1: ┤ Ry(1.9717) ├┤ X ├──┼──┤ Ry(-0.021271) ├┤ X ├──┼──┤ Ry(-0.73467) ├┤ X ├»\n",
       "     └───┬───┬────┘└─┬─┘  │  └───────────────┘└─┬─┘  │  └──────────────┘└─┬─┘»\n",
       "q_2: ────┤ H ├───────■────┼─────────────────────┼────┼────────────────────■──»\n",
       "         ├───┤            │                     │    │                       »\n",
       "q_3: ────┤ H ├────────────■─────────────────────■────┼───────────────────────»\n",
       "         ├───┤                                       │                       »\n",
       "q_4: ────┤ H ├───────────────────────────────────────■───────────────────────»\n",
       "         ├───┤                                                               »\n",
       "q_5: ────┤ H ├───────────────────────────────────────────────────────────────»\n",
       "         └───┘                                                               »\n",
       "«     ┌───┐┌──────────────┐     ┌───┐ ┌──────────────┐     ┌───┐»\n",
       "«q_0: ┤ X ├┤ Ry(-0.13254) ├─────┤ X ├─┤ Ry(0.057269) ├─────┤ X ├»\n",
       "«     └─┬─┘├─────────────┬┘┌───┐└─┬─┘┌┴──────────────┤┌───┐└─┬─┘»\n",
       "«q_1: ──┼──┤ Ry(0.13254) ├─┤ X ├──┼──┤ Ry(-0.057269) ├┤ X ├──┼──»\n",
       "«       │  └─────────────┘ └─┬─┘  │  └───────────────┘└─┬─┘  │  »\n",
       "«q_2: ──┼────────────────────┼────┼─────────────────────■────┼──»\n",
       "«       │                    │    │                          │  »\n",
       "«q_3: ──■────────────────────┼────┼──────────────────────────■──»\n",
       "«                            │    │                             »\n",
       "«q_4: ───────────────────────■────┼─────────────────────────────»\n",
       "«                                 │                             »\n",
       "«q_5: ────────────────────────────■─────────────────────────────»\n",
       "«                                                               »\n",
       "«     ┌──────────────┐     ┌───┐┌────────────┐     ┌───┐┌───────────────┐     »\n",
       "«q_0: ┤ Ry(0.044179) ├─────┤ X ├┤ Ry(-π/640) ├─────┤ X ├┤ Ry(-0.031089) ├─────»\n",
       "«     ├──────────────┤┌───┐└─┬─┘├───────────┬┘┌───┐└─┬─┘├───────────────┤┌───┐»\n",
       "«q_1: ┤ Ry(0.044179) ├┤ X ├──┼──┤ Ry(π/640) ├─┤ X ├──┼──┤ Ry(-0.031089) ├┤ X ├»\n",
       "«     └──────────────┘└─┬─┘  │  └───────────┘ └─┬─┘  │  └───────────────┘└─┬─┘»\n",
       "«q_2: ──────────────────┼────┼──────────────────■────┼─────────────────────┼──»\n",
       "«                       │    │                       │                     │  »\n",
       "«q_3: ──────────────────■────┼───────────────────────■─────────────────────┼──»\n",
       "«                            │                                             │  »\n",
       "«q_4: ───────────────────────■─────────────────────────────────────────────┼──»\n",
       "«                                                                          │  »\n",
       "«q_5: ─────────────────────────────────────────────────────────────────────■──»\n",
       "«                                                                             »\n",
       "«     ┌───┐┌─────────────┐     ┌───┐┌───────────────┐     ┌───┐┌─────────────┐»\n",
       "«q_0: ┤ X ├┤ Ry(-π/1920) ├─────┤ X ├┤ Ry(-0.040906) ├─────┤ X ├┤ Ry(-0.1489) ├»\n",
       "«     └─┬─┘├─────────────┤┌───┐└─┬─┘└┬──────────────┤┌───┐└─┬─┘├─────────────┤»\n",
       "«q_1: ──┼──┤ Ry(-π/1920) ├┤ X ├──┼───┤ Ry(0.040906) ├┤ X ├──┼──┤ Ry(-0.1489) ├»\n",
       "«       │  └─────────────┘└─┬─┘  │   └──────────────┘└─┬─┘  │  └─────────────┘»\n",
       "«q_2: ──■───────────────────■────┼─────────────────────┼────┼─────────────────»\n",
       "«                                │                     │    │                 »\n",
       "«q_3: ───────────────────────────■─────────────────────■────┼─────────────────»\n",
       "«                                                           │                 »\n",
       "«q_4: ──────────────────────────────────────────────────────■─────────────────»\n",
       "«                                                                             »\n",
       "«q_5: ────────────────────────────────────────────────────────────────────────»\n",
       "«                                                                             »\n",
       "«          ┌───┐┌───────────────┐     ┌───┐┌───────────────┐     ┌───┐»\n",
       "«q_0: ─────┤ X ├┤ Ry(-0.057269) ├─────┤ X ├┤ Ry(-0.017999) ├─────┤ X ├»\n",
       "«     ┌───┐└─┬─┘└┬──────────────┤┌───┐└─┬─┘└┬──────────────┤┌───┐└─┬─┘»\n",
       "«q_1: ┤ X ├──┼───┤ Ry(0.057269) ├┤ X ├──┼───┤ Ry(0.017999) ├┤ X ├──┼──»\n",
       "«     └─┬─┘  │   └──────────────┘└─┬─┘  │   └──────────────┘└─┬─┘  │  »\n",
       "«q_2: ──■────┼─────────────────────┼────┼─────────────────────■────┼──»\n",
       "«            │                     │    │                          │  »\n",
       "«q_3: ───────■─────────────────────┼────┼──────────────────────────■──»\n",
       "«                                  │    │                             »\n",
       "«q_4: ─────────────────────────────■────┼─────────────────────────────»\n",
       "«                                       │                             »\n",
       "«q_5: ──────────────────────────────────■─────────────────────────────»\n",
       "«                                                                     »\n",
       "«     ┌──────────────┐     ┌───┐┌────────────┐     ┌───┐┌──────────────┐     »\n",
       "«q_0: ┤ Ry(0.021271) ├─────┤ X ├┤ Ry(-π/384) ├─────┤ X ├┤ Ry(0.031089) ├─────»\n",
       "«     ├──────────────┤┌───┐└─┬─┘├───────────┬┘┌───┐└─┬─┘├──────────────┤┌───┐»\n",
       "«q_1: ┤ Ry(0.021271) ├┤ X ├──┼──┤ Ry(π/384) ├─┤ X ├──┼──┤ Ry(0.031089) ├┤ X ├»\n",
       "«     └──────────────┘└─┬─┘  │  └───────────┘ └─┬─┘  │  └──────────────┘└─┬─┘»\n",
       "«q_2: ──────────────────┼────┼──────────────────■────┼────────────────────┼──»\n",
       "«                       │    │                       │                    │  »\n",
       "«q_3: ──────────────────■────┼───────────────────────■────────────────────┼──»\n",
       "«                            │                                            │  »\n",
       "«q_4: ───────────────────────■────────────────────────────────────────────┼──»\n",
       "«                                                                         │  »\n",
       "«q_5: ────────────────────────────────────────────────────────────────────■──»\n",
       "«                                                                            »\n",
       "«     ┌───┐\n",
       "«q_0: ┤ X ├\n",
       "«     └─┬─┘\n",
       "«q_1: ──┼──\n",
       "«       │  \n",
       "«q_2: ──■──\n",
       "«          \n",
       "«q_3: ─────\n",
       "«          \n",
       "«q_4: ─────\n",
       "«          \n",
       "«q_5: ─────\n",
       "«          "
      ]
     },
     "execution_count": 259,
     "metadata": {},
     "output_type": "execute_result"
    }
   ],
   "source": [
    "qc.draw()"
   ]
  },
  {
   "cell_type": "code",
   "execution_count": 7,
   "metadata": {},
   "outputs": [
    {
     "data": {
      "text/plain": [
       "<matplotlib.image.AxesImage at 0x7fde2de32990>"
      ]
     },
     "execution_count": 7,
     "metadata": {},
     "output_type": "execute_result"
    },
    {
     "data": {
      "image/png": "[encoded data removed]",
      "text/plain": [
       "<Figure size 640x480 with 1 Axes>"
      ]
     },
     "metadata": {},
     "output_type": "display_data"
    }
   ],
   "source": [
    "plt.imshow(decoded_data[1])"
   ]
  }
 ],
 "metadata": {
  "kernelspec": {
   "display_name": "Python 3",
   "language": "python",
   "name": "python3"
  },
  "language_info": {
   "codemirror_mode": {
    "name": "ipython",
    "version": 3
   },
   "file_extension": ".py",
   "mimetype": "text/x-python",
   "name": "python",
   "nbconvert_exporter": "python",
   "pygments_lexer": "ipython3",
   "version": "3.11.0"
  }
 },
 "nbformat": 4,
 "nbformat_minor": 2
}
