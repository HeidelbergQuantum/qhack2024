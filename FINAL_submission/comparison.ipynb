{
 "cells": [
  {
   "cell_type": "code",
   "execution_count": 2,
   "metadata": {},
   "outputs": [],
   "source": [
    "from QPIXL_qiskit.helper import *\n",
    "from QPIXL_qiskit.qpixl_parallel import *\n",
    "from qiskit.visualization import *\n",
    "from qiskit_aer import StatevectorSimulator\n",
    "import qiskit \n",
    "import numpy as np\n"
   ]
  },
  {
   "cell_type": "code",
   "execution_count": 60,
   "metadata": {},
   "outputs": [],
   "source": [
    "from PIL import Image\n",
    "import matplotlib.pyplot as plt\n",
    "\n",
    "def timing(fun,x):\n",
    "    foo =  %timeit -n 1 -r 5 -o fun (x)\n",
    "    return foo\n"
   ]
  },
  {
   "cell_type": "code",
   "execution_count": 61,
   "metadata": {},
   "outputs": [],
   "source": [
    "datas = []\n",
    "for i in range(10):\n",
    "    img = Image.open(f'figures/0{i}.jpg')\n",
    "    img = img.convert('L')\n",
    "    img = np.array(img.resize((32,32), Image.Resampling.LANCZOS))\n",
    "    datas.append(img)"
   ]
  },
  {
   "cell_type": "code",
   "execution_count": 62,
   "metadata": {},
   "outputs": [
    {
     "name": "stdout",
     "output_type": "stream",
     "text": [
      "82.7 ms ± 14.7 ms per loop (mean ± std. dev. of 5 runs, 1 loop each)\n",
      "194 ms ± 29.4 ms per loop (mean ± std. dev. of 5 runs, 1 loop each)\n",
      "363 ms ± 60.2 ms per loop (mean ± std. dev. of 5 runs, 1 loop each)\n",
      "696 ms ± 136 ms per loop (mean ± std. dev. of 5 runs, 1 loop each)\n",
      "614 ms ± 99.8 ms per loop (mean ± std. dev. of 5 runs, 1 loop each)\n",
      "718 ms ± 75 ms per loop (mean ± std. dev. of 5 runs, 1 loop each)\n",
      "1.27 s ± 362 ms per loop (mean ± std. dev. of 5 runs, 1 loop each)\n",
      "2.29 s ± 239 ms per loop (mean ± std. dev. of 5 runs, 1 loop each)\n",
      "The slowest run took 7.32 times longer than the fastest. This could mean that an intermediate result is being cached.\n",
      "5.97 s ± 4.89 s per loop (mean ± std. dev. of 5 runs, 1 loop each)\n",
      "7.45 s ± 1.72 s per loop (mean ± std. dev. of 5 runs, 1 loop each)\n"
     ]
    },
    {
     "data": {
      "text/plain": [
       "[0.08265026244334876,\n",
       " 0.19401208260096608,\n",
       " 0.36253016320988535,\n",
       " 0.696146191842854,\n",
       " 0.6139039143919944,\n",
       " 0.7183359822258353,\n",
       " 1.2686408817768098,\n",
       " 2.2884894280228765,\n",
       " 5.974299326818437,\n",
       " 7.450464610569179]"
      ]
     },
     "execution_count": 62,
     "metadata": {},
     "output_type": "execute_result"
    }
   ],
   "source": [
    "backend = StatevectorSimulator(method=\"statevector\")\n",
    "def qiskitSV(imgs):\n",
    "    qc = cFRQI(imgs,0)\n",
    "    job = backend.run(qc)\n",
    "times_SV = []\n",
    "for i in range(10):\n",
    "    if i == 0:\n",
    "        times_SV.append(timing(qiskitSV,[datas[0]]).average)\n",
    "    else:\n",
    "        times_SV.append(timing(qiskitSV,datas[0:i+1]).average)\n",
    "times_SV"
   ]
  },
  {
   "cell_type": "code",
   "execution_count": 63,
   "metadata": {},
   "outputs": [
    {
     "name": "stdout",
     "output_type": "stream",
     "text": [
      "82.1 ms ± 14.5 ms per loop (mean ± std. dev. of 5 runs, 1 loop each)\n",
      "163 ms ± 16.2 ms per loop (mean ± std. dev. of 5 runs, 1 loop each)\n",
      "242 ms ± 16.2 ms per loop (mean ± std. dev. of 5 runs, 1 loop each)\n",
      "324 ms ± 15.7 ms per loop (mean ± std. dev. of 5 runs, 1 loop each)\n",
      "439 ms ± 40.3 ms per loop (mean ± std. dev. of 5 runs, 1 loop each)\n",
      "512 ms ± 33.3 ms per loop (mean ± std. dev. of 5 runs, 1 loop each)\n",
      "603 ms ± 32.4 ms per loop (mean ± std. dev. of 5 runs, 1 loop each)\n",
      "694 ms ± 54.1 ms per loop (mean ± std. dev. of 5 runs, 1 loop each)\n",
      "839 ms ± 50.3 ms per loop (mean ± std. dev. of 5 runs, 1 loop each)\n",
      "967 ms ± 66.1 ms per loop (mean ± std. dev. of 5 runs, 1 loop each)\n"
     ]
    },
    {
     "data": {
      "text/plain": [
       "[0.0821025756187737,\n",
       " 0.16265760799869894,\n",
       " 0.24184973016381264,\n",
       " 0.32376781199127436,\n",
       " 0.4394731789827347,\n",
       " 0.5124840108212083,\n",
       " 0.6029365699738264,\n",
       " 0.6935588592197746,\n",
       " 0.8393034366890788,\n",
       " 0.967369829211384]"
      ]
     },
     "execution_count": 63,
     "metadata": {},
     "output_type": "execute_result"
    }
   ],
   "source": [
    "backend = StatevectorSimulator(method=\"statevector_gpu\")\n",
    "times_SVGPU = []\n",
    "for i in range(10):\n",
    "    if i == 0:\n",
    "        times_SVGPU.append(timing(qiskitSV,[datas[0]]).average)\n",
    "    else:\n",
    "        times_SVGPU.append(timing(qiskitSV,datas[0:i+1]).average)\n",
    "times_SVGPU"
   ]
  },
  {
   "cell_type": "code",
   "execution_count": 75,
   "metadata": {},
   "outputs": [
    {
     "ename": "ValueError",
     "evalue": "CNOT: wrong number of parameters. 1 parameters passed, 0 expected.",
     "output_type": "error",
     "traceback": [
      "\u001b[0;31m---------------------------------------------------------------------------\u001b[0m",
      "\u001b[0;31mValueError\u001b[0m                                Traceback (most recent call last)",
      "Cell \u001b[0;32mIn[75], line 6\u001b[0m\n\u001b[1;32m      3\u001b[0m dev \u001b[38;5;241m=\u001b[39m qml\u001b[38;5;241m.\u001b[39mdevice(\u001b[38;5;124m\"\u001b[39m\u001b[38;5;124mlightning.gpu\u001b[39m\u001b[38;5;124m\"\u001b[39m,\u001b[38;5;241m12\u001b[39m)\n\u001b[1;32m      5\u001b[0m qml\u001b[38;5;241m.\u001b[39mqnode(dev, interface\u001b[38;5;241m=\u001b[39m\u001b[38;5;124m\"\u001b[39m\u001b[38;5;124mtorch\u001b[39m\u001b[38;5;124m\"\u001b[39m)\n\u001b[0;32m----> 6\u001b[0m \u001b[43mQP\u001b[49m\u001b[38;5;241;43m.\u001b[39;49m\u001b[43mcFRQI\u001b[49m\u001b[43m(\u001b[49m\u001b[43mdatas\u001b[49m\u001b[43m[\u001b[49m\u001b[38;5;241;43m0\u001b[39;49m\u001b[43m:\u001b[49m\u001b[38;5;241;43m1\u001b[39;49m\u001b[43m]\u001b[49m\u001b[43m,\u001b[49m\u001b[38;5;241;43m0\u001b[39;49m\u001b[43m)\u001b[49m\n",
      "File \u001b[0;32m/data/personal/qhack2024/FINAL_submission/QPIXL_pennylane/qpixl_parallel.py:82\u001b[0m, in \u001b[0;36mcFRQI\u001b[0;34m(data, compression)\u001b[0m\n\u001b[1;32m     80\u001b[0m pc \u001b[38;5;241m=\u001b[39m pc_list[ind]\n\u001b[1;32m     81\u001b[0m \u001b[38;5;28;01mif\u001b[39;00m (pc \u001b[38;5;241m>>\u001b[39m j)  \u001b[38;5;241m&\u001b[39m  \u001b[38;5;241m1\u001b[39m:\n\u001b[0;32m---> 82\u001b[0m     \u001b[43mqml\u001b[49m\u001b[38;5;241;43m.\u001b[39;49m\u001b[43mCNOT\u001b[49m\u001b[43m(\u001b[49m\u001b[43mpermutation\u001b[49m\u001b[43m(\u001b[49m\u001b[43mj\u001b[49m\u001b[43m,\u001b[49m\u001b[43mind\u001b[49m\u001b[43m,\u001b[49m\u001b[43mk\u001b[49m\u001b[43m)\u001b[49m\u001b[43m,\u001b[49m\u001b[43m \u001b[49m\u001b[43mk\u001b[49m\u001b[38;5;241;43m+\u001b[39;49m\u001b[43mind\u001b[49m\u001b[43m)\u001b[49m\n",
      "File \u001b[0;32m/usr/local/lib/python3.10/dist-packages/pennylane/operation.py:1770\u001b[0m, in \u001b[0;36mOperation.__init__\u001b[0;34m(self, wires, id, *params)\u001b[0m\n\u001b[1;32m   1769\u001b[0m \u001b[38;5;28;01mdef\u001b[39;00m \u001b[38;5;21m__init__\u001b[39m(\u001b[38;5;28mself\u001b[39m, \u001b[38;5;241m*\u001b[39mparams, wires\u001b[38;5;241m=\u001b[39m\u001b[38;5;28;01mNone\u001b[39;00m, \u001b[38;5;28mid\u001b[39m\u001b[38;5;241m=\u001b[39m\u001b[38;5;28;01mNone\u001b[39;00m):\n\u001b[0;32m-> 1770\u001b[0m     \u001b[38;5;28;43msuper\u001b[39;49m\u001b[43m(\u001b[49m\u001b[43m)\u001b[49m\u001b[38;5;241;43m.\u001b[39;49m\u001b[38;5;21;43m__init__\u001b[39;49m\u001b[43m(\u001b[49m\u001b[38;5;241;43m*\u001b[39;49m\u001b[43mparams\u001b[49m\u001b[43m,\u001b[49m\u001b[43m \u001b[49m\u001b[43mwires\u001b[49m\u001b[38;5;241;43m=\u001b[39;49m\u001b[43mwires\u001b[49m\u001b[43m,\u001b[49m\u001b[43m \u001b[49m\u001b[38;5;28;43mid\u001b[39;49m\u001b[38;5;241;43m=\u001b[39;49m\u001b[38;5;28;43mid\u001b[39;49m\u001b[43m)\u001b[49m\n\u001b[1;32m   1772\u001b[0m     \u001b[38;5;66;03m# check the grad_recipe validity\u001b[39;00m\n\u001b[1;32m   1773\u001b[0m     \u001b[38;5;28;01mif\u001b[39;00m \u001b[38;5;28mself\u001b[39m\u001b[38;5;241m.\u001b[39mgrad_recipe \u001b[38;5;129;01mis\u001b[39;00m \u001b[38;5;28;01mNone\u001b[39;00m:\n\u001b[1;32m   1774\u001b[0m         \u001b[38;5;66;03m# Make sure grad_recipe is an iterable of correct length instead of None\u001b[39;00m\n",
      "File \u001b[0;32m/usr/local/lib/python3.10/dist-packages/pennylane/operation.py:1057\u001b[0m, in \u001b[0;36mOperator.__init__\u001b[0;34m(self, wires, id, *params)\u001b[0m\n\u001b[1;32m   1055\u001b[0m     \u001b[38;5;28;01mif\u001b[39;00m wires_from_args \u001b[38;5;129;01mand\u001b[39;00m \u001b[38;5;28mlen\u001b[39m(params) \u001b[38;5;241m==\u001b[39m (\u001b[38;5;28mself\u001b[39m\u001b[38;5;241m.\u001b[39mnum_params \u001b[38;5;241m-\u001b[39m \u001b[38;5;241m1\u001b[39m):\n\u001b[1;32m   1056\u001b[0m         \u001b[38;5;28;01mraise\u001b[39;00m \u001b[38;5;167;01mValueError\u001b[39;00m(\u001b[38;5;124mf\u001b[39m\u001b[38;5;124m\"\u001b[39m\u001b[38;5;124mMust specify the wires that \u001b[39m\u001b[38;5;132;01m{\u001b[39;00m\u001b[38;5;28mtype\u001b[39m(\u001b[38;5;28mself\u001b[39m)\u001b[38;5;241m.\u001b[39m\u001b[38;5;18m__name__\u001b[39m\u001b[38;5;132;01m}\u001b[39;00m\u001b[38;5;124m acts on\u001b[39m\u001b[38;5;124m\"\u001b[39m)\n\u001b[0;32m-> 1057\u001b[0m     \u001b[38;5;28;01mraise\u001b[39;00m \u001b[38;5;167;01mValueError\u001b[39;00m(\n\u001b[1;32m   1058\u001b[0m         \u001b[38;5;124mf\u001b[39m\u001b[38;5;124m\"\u001b[39m\u001b[38;5;132;01m{\u001b[39;00m\u001b[38;5;28mself\u001b[39m\u001b[38;5;241m.\u001b[39mname\u001b[38;5;132;01m}\u001b[39;00m\u001b[38;5;124m: wrong number of parameters. \u001b[39m\u001b[38;5;124m\"\u001b[39m\n\u001b[1;32m   1059\u001b[0m         \u001b[38;5;124mf\u001b[39m\u001b[38;5;124m\"\u001b[39m\u001b[38;5;132;01m{\u001b[39;00m\u001b[38;5;28mlen\u001b[39m(params)\u001b[38;5;132;01m}\u001b[39;00m\u001b[38;5;124m parameters passed, \u001b[39m\u001b[38;5;132;01m{\u001b[39;00m\u001b[38;5;28mself\u001b[39m\u001b[38;5;241m.\u001b[39mnum_params\u001b[38;5;132;01m}\u001b[39;00m\u001b[38;5;124m expected.\u001b[39m\u001b[38;5;124m\"\u001b[39m\n\u001b[1;32m   1060\u001b[0m     )\n\u001b[1;32m   1062\u001b[0m \u001b[38;5;28mself\u001b[39m\u001b[38;5;241m.\u001b[39m_wires \u001b[38;5;241m=\u001b[39m wires \u001b[38;5;28;01mif\u001b[39;00m \u001b[38;5;28misinstance\u001b[39m(wires, Wires) \u001b[38;5;28;01melse\u001b[39;00m Wires(wires)\n\u001b[1;32m   1064\u001b[0m \u001b[38;5;66;03m# check that the number of wires given corresponds to required number\u001b[39;00m\n",
      "\u001b[0;31mValueError\u001b[0m: CNOT: wrong number of parameters. 1 parameters passed, 0 expected."
     ]
    }
   ],
   "source": [
    "import QPIXL_pennylane.qpixl_parallel as QP\n",
    "import pennylane as qml\n",
    "dev = qml.device(\"lightning.gpu\",12)\n",
    "\n",
    "qml.qnode(dev, interface=\"torch\")\n",
    "QP.cFRQI(datas[0:1],0)"
   ]
  },
  {
   "cell_type": "code",
   "execution_count": null,
   "metadata": {},
   "outputs": [],
   "source": []
  }
 ],
 "metadata": {
  "kernelspec": {
   "display_name": "Python 3 (ipykernel)",
   "language": "python",
   "name": "python3"
  },
  "language_info": {
   "codemirror_mode": {
    "name": "ipython",
    "version": 3
   },
   "file_extension": ".py",
   "mimetype": "text/x-python",
   "name": "python",
   "nbconvert_exporter": "python",
   "pygments_lexer": "ipython3",
   "version": "3.10.12"
  }
 },
 "nbformat": 4,
 "nbformat_minor": 4
}
