{
 "cells": [
  {
   "cell_type": "code",
   "execution_count": 173,
   "metadata": {},
   "outputs": [],
   "source": [
    "from helper import *\n",
    "from QPIXL_qiskit.qpixl_parallel import *\n",
    "from qiskit.visualization import *\n",
    "from qiskit_aer import StatevectorSimulator\n",
    "import qiskit\n",
    "backend = StatevectorSimulator(method=\"statevector\")\n"
   ]
  },
  {
   "cell_type": "code",
   "execution_count": 35,
   "metadata": {},
   "outputs": [
    {
     "data": {
      "text/plain": [
       "<matplotlib.image.AxesImage at 0x7f9a8c1de1d0>"
      ]
     },
     "execution_count": 35,
     "metadata": {},
     "output_type": "execute_result"
    },
    {
     "data": {
      "image/png": "[encoded data removed]",
      "text/plain": [
       "<Figure size 640x480 with 1 Axes>"
      ]
     },
     "metadata": {},
     "output_type": "display_data"
    }
   ],
   "source": [
    "from PIL import Image\n",
    "import matplotlib.pyplot as plt\n",
    "img = Image.open('figures/creation_world.png')\n",
    "img = img.resize((32,32), Image.Resampling.LANCZOS)\n",
    "\n",
    "shape = img.size\n",
    "np_frame = [np.flip(np.array(img).T.flatten())] #sometimes you have to transpose the image for the decoding to make sense\n",
    "comp_images = []\n",
    "labels = []\n",
    "comp_str = \"Compression: \"+str(0)+\"% \\n\"\n",
    "qc = cFRQI(np_frame,0)\n",
    "# print(qc.draw())\n",
    "job = backend.run(qc)\n",
    "depth_str = \" Circuit depth: \"+str( qc.depth())\n",
    "#### Just for show\n",
    "sv = np.real(job.result().get_statevector())\n",
    "img2 = decodeQPIXL(sv)\n",
    "comp_images.append(reconstruct_img(img2, shape))\n",
    "labels.append(comp_str+depth_str)\n",
    "plt.imshow(img)"
   ]
  },
  {
   "cell_type": "code",
   "execution_count": 166,
   "metadata": {},
   "outputs": [
    {
     "data": {
      "text/plain": [
       "<matplotlib.image.AxesImage at 0x7f9a8d44fc50>"
      ]
     },
     "execution_count": 166,
     "metadata": {},
     "output_type": "execute_result"
    },
    {
     "data": {
      "image/png": "[encoded data removed]",
      "text/plain": [
       "<Figure size 640x480 with 1 Axes>"
      ]
     },
     "metadata": {},
     "output_type": "display_data"
    }
   ],
   "source": [
    "from PIL import Image\n",
    "import matplotlib.pyplot as plt\n",
    "img = Image.open('figures/creation_world.png')\n",
    "img = img.resize((4,4), Image.Resampling.LANCZOS)\n",
    "shape = img.size\n",
    "img = np.array(img)[:,:,0]\n",
    "img2 = np.flip(img,axis=0)\n",
    "np_frame_hold = [np.array(img).T.flatten(),np.array(img2).T.flatten()]\n",
    "np_frame = [np.array(img).T.flatten(),np.array(img2).T.flatten()] #sometimes you have to transpose the image for the decoding to make sense\n",
    "comp_images = []\n",
    "labels = []\n",
    "comp_str = \"Compression: \"+str(0)+\"% \\n\"\n",
    "qc = cFRQI(np_frame,0)\n",
    "# print(qc.draw())\n",
    "job = backend.run(qc)\n",
    "depth_str = \" Circuit depth: \"+str( qc.depth())\n",
    "#### Just for show\n",
    "sv = np.real(job.result().get_statevector())\n",
    "\n",
    "\n",
    "\n",
    "decoded = decodeQPIXL(sv)\n",
    "comp_images.append(reconstruct_img(decoded[1::2], shape))\n",
    "labels.append(comp_str+depth_str)\n",
    "plt.imshow(comp_images[0])"
   ]
  },
  {
   "cell_type": "code",
   "execution_count": 182,
   "metadata": {},
   "outputs": [],
   "source": [
    "traced_over_qubits = [ qc.qubits.index(qubit) for qubit in [qc.qubits[0]] ]\n",
    "density_matrix = qiskit.quantum_info.partial_trace(sv, traced_over_qubits)\n"
   ]
  },
  {
   "cell_type": "code",
   "execution_count": 185,
   "metadata": {},
   "outputs": [
    {
     "name": "stdout",
     "output_type": "stream",
     "text": [
      "DensityMatrix([[0.03854517+0.j, 0.03038656+0.j, 0.00562676+0.j, ...,\n",
      "                0.04607471+0.j, 0.04487687+0.j, 0.01858861+0.j],\n",
      "               [0.03038656+0.j, 0.02395483+0.j, 0.00443578+0.j, ...,\n",
      "                0.03632237+0.j, 0.03537807+0.j, 0.01465408+0.j],\n",
      "               [0.00562676+0.j, 0.00443578+0.j, 0.00086344+0.j, ...,\n",
      "                0.00715513+0.j, 0.00676598+0.j, 0.00280256+0.j],\n",
      "               ...,\n",
      "               [0.04607471+0.j, 0.03632237+0.j, 0.00715513+0.j, ...,\n",
      "                0.05945579+0.j, 0.05583686+0.j, 0.02312839+0.j],\n",
      "               [0.04487687+0.j, 0.03537807+0.j, 0.00676598+0.j, ...,\n",
      "                0.05583686+0.j, 0.05334709+0.j, 0.02209709+0.j],\n",
      "               [0.01858861+0.j, 0.01465408+0.j, 0.00280256+0.j, ...,\n",
      "                0.02312839+0.j, 0.02209709+0.j, 0.00915291+0.j]],\n",
      "              dims=(2, 2, 2, 2, 2))\n"
     ]
    }
   ],
   "source": [
    "density_matrix"
   ]
  },
  {
   "cell_type": "code",
   "execution_count": 149,
   "metadata": {},
   "outputs": [
    {
     "data": {
      "text/plain": [
       "array([0.91764706, 0.90588235, 1.        , 0.98823529])"
      ]
     },
     "execution_count": 149,
     "metadata": {},
     "output_type": "execute_result"
    }
   ],
   "source": [
    "img2.flatten()/img.max()"
   ]
  }
 ],
 "metadata": {
  "kernelspec": {
   "display_name": "Python 3",
   "language": "python",
   "name": "python3"
  },
  "language_info": {
   "codemirror_mode": {
    "name": "ipython",
    "version": 3
   },
   "file_extension": ".py",
   "mimetype": "text/x-python",
   "name": "python",
   "nbconvert_exporter": "python",
   "pygments_lexer": "ipython3",
   "version": "3.11.0"
  }
 },
 "nbformat": 4,
 "nbformat_minor": 2
}
