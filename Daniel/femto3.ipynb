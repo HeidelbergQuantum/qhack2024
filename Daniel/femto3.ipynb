{
 "cells": [
  {
   "cell_type": "code",
   "execution_count": 9,
   "metadata": {},
   "outputs": [
    {
     "name": "stdout",
     "output_type": "stream",
     "text": [
      "if 524d30ff=0 => 0\n",
      "if 524d30ff=1 => 1\n"
     ]
    },
    {
     "data": {
      "text/plain": [
       "tensor([0.77777778, 0.22222222], requires_grad=True)"
      ]
     },
     "execution_count": 9,
     "metadata": {},
     "output_type": "execute_result"
    }
   ],
   "source": [
    "import json\n",
    "import pennylane as qml\n",
    "import pennylane.numpy as np\n",
    "\n",
    "def beam_splitter(r):\n",
    "    \"\"\"\n",
    "    Returns the beam splitter matrix.\n",
    "\n",
    "    Args:\n",
    "        - r (float): The reflection coefficient of the beam splitter.\n",
    "    Returns:\n",
    "        - (np.array): 2 x 2 matrix that represents the beam\n",
    "        splitter matrix.    \n",
    "    \"\"\"\n",
    "    t = np.sqrt(1-r**2)\n",
    "    return np.array([[r,t],[t,-r]])\n",
    "    # Put your code here\n",
    "\n",
    "\n",
    "dev = qml.device('default.qubit')\n",
    "\n",
    "@qml.qnode(dev)\n",
    "def mz_interferometer(r):\n",
    "    \"\"\"\n",
    "    This QNode returns the probability that either A or C\n",
    "    detect a photon, and the probability that D detects a photon.\n",
    "    \n",
    "    Args:\n",
    "        - r (float): The reflection coefficient of the beam splitters.\n",
    "    Returns: \n",
    "        - np.array(float): An array of shape (2,), where the first \n",
    "        element is the probability of detection at A or C,\n",
    "        and the second element is the probability of detection at D.\n",
    "    \"\"\"\n",
    "    # pauli_decomp = qml.pauli_decompose(beam_splitter(r))\n",
    "    # print(pauli_decomp)\n",
    "    qml.QubitUnitary(beam_splitter(r), 0)\n",
    "    # qml.QubitUnitary(beam_splitter(r), 0)\n",
    "    # Put your code here\n",
    "    m_0 = qml.measure(0)\n",
    "    print(m_0)\n",
    "    qml.cond(m_0, qml.QubitUnitary)(beam_splitter(r), 0)\n",
    "    return qml.probs([0])\n",
    "\n",
    "ins = 0.577350269\n",
    "mz_interferometer(ins)"
   ]
  },
  {
   "cell_type": "code",
   "execution_count": 106,
   "metadata": {},
   "outputs": [
    {
     "name": "stdout",
     "output_type": "stream",
     "text": [
      "[7, 6, 5, 4, 3, 2, 1, 0]\n"
     ]
    }
   ],
   "source": [
    "print(list(range(7,-1,-1)))"
   ]
  },
  {
   "cell_type": "code",
   "execution_count": 96,
   "metadata": {},
   "outputs": [
    {
     "name": "stdout",
     "output_type": "stream",
     "text": [
      "Running test case 0 with input '[1,0,1,1,0,1,1,1]'...\n",
      "1.0\n",
      "1.0 1\n",
      "Correct!\n",
      "Running test case 1 with input '[0,0,0,0,0,1,0,1]'...\n",
      "1.0\n",
      "1.0 0\n"
     ]
    },
    {
     "ename": "AssertionError",
     "evalue": "Wrong answer!",
     "output_type": "error",
     "traceback": [
      "\u001b[1;31m---------------------------------------------------------------------------\u001b[0m",
      "\u001b[1;31mAssertionError\u001b[0m                            Traceback (most recent call last)",
      "Cell \u001b[1;32mIn[96], line 40\u001b[0m\n\u001b[0;32m     37\u001b[0m     \u001b[38;5;28mprint\u001b[39m(\u001b[38;5;124mf\u001b[39m\u001b[38;5;124m\"\u001b[39m\u001b[38;5;124mRuntime Error. \u001b[39m\u001b[38;5;132;01m{\u001b[39;00mexc\u001b[38;5;132;01m}\u001b[39;00m\u001b[38;5;124m\"\u001b[39m)\n\u001b[0;32m     39\u001b[0m \u001b[38;5;28;01melse\u001b[39;00m:\n\u001b[1;32m---> 40\u001b[0m     \u001b[38;5;28;01mif\u001b[39;00m message \u001b[38;5;241m:=\u001b[39m \u001b[43mcheck\u001b[49m\u001b[43m(\u001b[49m\u001b[43moutput\u001b[49m\u001b[43m,\u001b[49m\u001b[43m \u001b[49m\u001b[43mexpected_output\u001b[49m\u001b[43m)\u001b[49m:\n\u001b[0;32m     41\u001b[0m         \u001b[38;5;28mprint\u001b[39m(\u001b[38;5;124mf\u001b[39m\u001b[38;5;124m\"\u001b[39m\u001b[38;5;124mWrong Answer. Have: \u001b[39m\u001b[38;5;124m'\u001b[39m\u001b[38;5;132;01m{\u001b[39;00moutput\u001b[38;5;132;01m}\u001b[39;00m\u001b[38;5;124m'\u001b[39m\u001b[38;5;124m. Want: \u001b[39m\u001b[38;5;124m'\u001b[39m\u001b[38;5;132;01m{\u001b[39;00mexpected_output\u001b[38;5;132;01m}\u001b[39;00m\u001b[38;5;124m'\u001b[39m\u001b[38;5;124m.\u001b[39m\u001b[38;5;124m\"\u001b[39m)\n\u001b[0;32m     43\u001b[0m     \u001b[38;5;28;01melse\u001b[39;00m:\n",
      "Cell \u001b[1;32mIn[96], line 19\u001b[0m, in \u001b[0;36mcheck\u001b[1;34m(have, want)\u001b[0m\n\u001b[0;32m     17\u001b[0m \u001b[38;5;28;01mdef\u001b[39;00m \u001b[38;5;21mcheck\u001b[39m(have: \u001b[38;5;28mstr\u001b[39m, want: \u001b[38;5;28mstr\u001b[39m) \u001b[38;5;241m-\u001b[39m\u001b[38;5;241m>\u001b[39m \u001b[38;5;28;01mNone\u001b[39;00m:\n\u001b[0;32m     18\u001b[0m     \u001b[38;5;28mprint\u001b[39m(have,want)\n\u001b[1;32m---> 19\u001b[0m     \u001b[38;5;28;01massert\u001b[39;00m np\u001b[38;5;241m.\u001b[39misclose(\u001b[38;5;28mfloat\u001b[39m(have), \u001b[38;5;28mfloat\u001b[39m(want)), \u001b[38;5;124m\"\u001b[39m\u001b[38;5;124mWrong answer!\u001b[39m\u001b[38;5;124m\"\u001b[39m\n",
      "\u001b[1;31mAssertionError\u001b[0m: Wrong answer!"
     ]
    }
   ],
   "source": [
    "# These functions are responsible for testing the solution.\n",
    "\n",
    "\n",
    "def run(test_case_input: str) -> str:\n",
    "    ins = json.loads(test_case_input)\n",
    "    outs = mz_interferometer(ins).tolist()\n",
    "    \n",
    "    return str(outs)\n",
    "\n",
    "\n",
    "def check(solution_output: str, expected_output: str) -> None:\n",
    "    solution_output = json.loads(solution_output)\n",
    "    expected_output = json.loads(expected_output)\n",
    "    assert np.allclose(solution_output,expected_output), \"Not the correct probabilities\"\n",
    "\n",
    "\n",
    "# These are the public test cases\n",
    "test_cases = [\n",
    "    ('0.5', '[0.8125, 0.1875]'),\n",
    "    ('0.577350269', '[0.777778, 0.222222]')\n",
    "]\n",
    "\n",
    "# This will run the public test cases locally\n",
    "for i, (input_, expected_output) in enumerate(test_cases):\n",
    "    print(f\"Running test case {i} with input '{input_}'...\")\n",
    "\n",
    "    try:\n",
    "        output = run(input_)\n",
    "\n",
    "    except Exception as exc:\n",
    "        print(f\"Runtime Error. {exc}\")\n",
    "\n",
    "    else:\n",
    "        if message := check(output, expected_output):\n",
    "            print(f\"Wrong Answer. Have: '{output}'. Want: '{expected_output}'.\")\n",
    "\n",
    "        else:\n",
    "            print(\"Correct!\")"
   ]
  }
 ],
 "metadata": {
  "kernelspec": {
   "display_name": "qhack",
   "language": "python",
   "name": "python3"
  },
  "language_info": {
   "codemirror_mode": {
    "name": "ipython",
    "version": 3
   },
   "file_extension": ".py",
   "mimetype": "text/x-python",
   "name": "python",
   "nbconvert_exporter": "python",
   "pygments_lexer": "ipython3",
   "version": "3.12.1"
  }
 },
 "nbformat": 4,
 "nbformat_minor": 2
}
