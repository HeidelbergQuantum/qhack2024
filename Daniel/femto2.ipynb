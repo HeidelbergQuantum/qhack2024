{
 "cells": [
  {
   "cell_type": "code",
   "execution_count": 112,
   "metadata": {},
   "outputs": [
    {
     "data": {
      "text/plain": [
       "'0.0'"
      ]
     },
     "execution_count": 112,
     "metadata": {},
     "output_type": "execute_result"
    }
   ],
   "source": [
    "import json\n",
    "import pennylane as qml\n",
    "import pennylane.numpy as np\n",
    "\n",
    "def U():\n",
    "    \"\"\"\n",
    "    Creates the gate that checks the parity of the number of forests.\n",
    "    It should not return anything, you simply need to add the gates.\n",
    "    \"\"\"\n",
    "    # Put your code here #\n",
    "    # qml.Hadamard([8])\n",
    "    qml.CZ(wires=[1,0])\n",
    "    for i in range(0,7):\n",
    "        qml.CZ(wires=[i,i+1])\n",
    "    qml.Hadamard(8)\n",
    "    for i in range(7):\n",
    "        qml.CNOT(wires=[i,8])\n",
    "    qml.Hadamard(8)\n",
    "\n",
    "    # qml.PauliX(wires=[8])\n",
    "\n",
    "# These functions are responsible for testing the solution.\n",
    "dev = qml.device(\"default.qubit\", wires=9)\n",
    "\n",
    "@qml.qnode(dev)\n",
    "def circuit():\n",
    "    qml.BasisEmbedding([1,1,1,0,1,0,1,1], wires = [0,1,2,3,4,5,6,7])\n",
    "    U()\n",
    "    return qml.probs(wires = 8)\n",
    "drawer = qml.draw(circuit)\n",
    "str(float(circuit()[1]))\n"
   ]
  },
  {
   "cell_type": "code",
   "execution_count": 106,
   "metadata": {},
   "outputs": [
    {
     "name": "stdout",
     "output_type": "stream",
     "text": [
      "[7, 6, 5, 4, 3, 2, 1, 0]\n"
     ]
    }
   ],
   "source": [
    "print(list(range(7,-1,-1)))"
   ]
  },
  {
   "cell_type": "code",
   "execution_count": 96,
   "metadata": {},
   "outputs": [
    {
     "name": "stdout",
     "output_type": "stream",
     "text": [
      "Running test case 0 with input '[1,0,1,1,0,1,1,1]'...\n",
      "1.0\n",
      "1.0 1\n",
      "Correct!\n",
      "Running test case 1 with input '[0,0,0,0,0,1,0,1]'...\n",
      "1.0\n",
      "1.0 0\n"
     ]
    },
    {
     "ename": "AssertionError",
     "evalue": "Wrong answer!",
     "output_type": "error",
     "traceback": [
      "\u001b[1;31m---------------------------------------------------------------------------\u001b[0m",
      "\u001b[1;31mAssertionError\u001b[0m                            Traceback (most recent call last)",
      "Cell \u001b[1;32mIn[96], line 40\u001b[0m\n\u001b[0;32m     37\u001b[0m     \u001b[38;5;28mprint\u001b[39m(\u001b[38;5;124mf\u001b[39m\u001b[38;5;124m\"\u001b[39m\u001b[38;5;124mRuntime Error. \u001b[39m\u001b[38;5;132;01m{\u001b[39;00mexc\u001b[38;5;132;01m}\u001b[39;00m\u001b[38;5;124m\"\u001b[39m)\n\u001b[0;32m     39\u001b[0m \u001b[38;5;28;01melse\u001b[39;00m:\n\u001b[1;32m---> 40\u001b[0m     \u001b[38;5;28;01mif\u001b[39;00m message \u001b[38;5;241m:=\u001b[39m \u001b[43mcheck\u001b[49m\u001b[43m(\u001b[49m\u001b[43moutput\u001b[49m\u001b[43m,\u001b[49m\u001b[43m \u001b[49m\u001b[43mexpected_output\u001b[49m\u001b[43m)\u001b[49m:\n\u001b[0;32m     41\u001b[0m         \u001b[38;5;28mprint\u001b[39m(\u001b[38;5;124mf\u001b[39m\u001b[38;5;124m\"\u001b[39m\u001b[38;5;124mWrong Answer. Have: \u001b[39m\u001b[38;5;124m'\u001b[39m\u001b[38;5;132;01m{\u001b[39;00moutput\u001b[38;5;132;01m}\u001b[39;00m\u001b[38;5;124m'\u001b[39m\u001b[38;5;124m. Want: \u001b[39m\u001b[38;5;124m'\u001b[39m\u001b[38;5;132;01m{\u001b[39;00mexpected_output\u001b[38;5;132;01m}\u001b[39;00m\u001b[38;5;124m'\u001b[39m\u001b[38;5;124m.\u001b[39m\u001b[38;5;124m\"\u001b[39m)\n\u001b[0;32m     43\u001b[0m     \u001b[38;5;28;01melse\u001b[39;00m:\n",
      "Cell \u001b[1;32mIn[96], line 19\u001b[0m, in \u001b[0;36mcheck\u001b[1;34m(have, want)\u001b[0m\n\u001b[0;32m     17\u001b[0m \u001b[38;5;28;01mdef\u001b[39;00m \u001b[38;5;21mcheck\u001b[39m(have: \u001b[38;5;28mstr\u001b[39m, want: \u001b[38;5;28mstr\u001b[39m) \u001b[38;5;241m-\u001b[39m\u001b[38;5;241m>\u001b[39m \u001b[38;5;28;01mNone\u001b[39;00m:\n\u001b[0;32m     18\u001b[0m     \u001b[38;5;28mprint\u001b[39m(have,want)\n\u001b[1;32m---> 19\u001b[0m     \u001b[38;5;28;01massert\u001b[39;00m np\u001b[38;5;241m.\u001b[39misclose(\u001b[38;5;28mfloat\u001b[39m(have), \u001b[38;5;28mfloat\u001b[39m(want)), \u001b[38;5;124m\"\u001b[39m\u001b[38;5;124mWrong answer!\u001b[39m\u001b[38;5;124m\"\u001b[39m\n",
      "\u001b[1;31mAssertionError\u001b[0m: Wrong answer!"
     ]
    }
   ],
   "source": [
    "def run(test_case_input: str) -> str:\n",
    "\n",
    "    input = json.loads(test_case_input)\n",
    "    wires_input = [0,1,2,3,4,5,6,7]\n",
    "\n",
    "    dev = qml.device(\"default.qubit\", wires = 10, shots = 10)\n",
    "\n",
    "    @qml.qnode(dev)\n",
    "    def circuit():\n",
    "      qml.BasisEmbedding(input, wires = wires_input)\n",
    "\n",
    "      U()\n",
    "      return qml.probs(wires = 8)\n",
    "    return str(float(circuit()[1]))\n",
    "\n",
    "\n",
    "def check(have: str, want: str) -> None:\n",
    "    print(have,want)\n",
    "    assert np.isclose(float(have), float(want)), \"Wrong answer!\"\n",
    "\n",
    "\n",
    "# These are the public test cases\n",
    "test_cases = [\n",
    "    ('[1,0,1,1,0,1,1,1]', '1'),\n",
    "    ('[0,0,0,0,0,1,0,1]', '0')\n",
    "]\n",
    "\n",
    "# This will run the public test cases locally\n",
    "for i, (input_, expected_output) in enumerate(test_cases):\n",
    "    print(f\"Running test case {i} with input '{input_}'...\")\n",
    "\n",
    "    try:\n",
    "        output = run(input_)\n",
    "        print(output)\n",
    "\n",
    "    except Exception as exc:\n",
    "        print(f\"Runtime Error. {exc}\")\n",
    "\n",
    "    else:\n",
    "        if message := check(output, expected_output):\n",
    "            print(f\"Wrong Answer. Have: '{output}'. Want: '{expected_output}'.\")\n",
    "\n",
    "        else:\n",
    "            print(\"Correct!\")"
   ]
  },
  {
   "cell_type": "code",
   "execution_count": 83,
   "metadata": {},
   "outputs": [
    {
     "ename": "TypeError",
     "evalue": "'tensor' object is not callable",
     "output_type": "error",
     "traceback": [
      "\u001b[1;31m---------------------------------------------------------------------------\u001b[0m",
      "\u001b[1;31mTypeError\u001b[0m                                 Traceback (most recent call last)",
      "Cell \u001b[1;32mIn[83], line 1\u001b[0m\n\u001b[1;32m----> 1\u001b[0m \u001b[43mrun\u001b[49m\u001b[43m(\u001b[49m\u001b[38;5;124;43m'\u001b[39;49m\u001b[38;5;124;43m[0,0,1,1,0,1,1,0]\u001b[39;49m\u001b[38;5;124;43m'\u001b[39;49m\u001b[43m)\u001b[49m\n",
      "Cell \u001b[1;32mIn[82], line 15\u001b[0m, in \u001b[0;36mrun\u001b[1;34m(test_case_input)\u001b[0m\n\u001b[0;32m     12\u001b[0m   U()\n\u001b[0;32m     14\u001b[0m   \u001b[38;5;28;01mreturn\u001b[39;00m qml\u001b[38;5;241m.\u001b[39mprobs(wires \u001b[38;5;241m=\u001b[39m \u001b[38;5;241m8\u001b[39m)\n\u001b[1;32m---> 15\u001b[0m \u001b[38;5;28mprint\u001b[39m(\u001b[43mqml\u001b[49m\u001b[38;5;241;43m.\u001b[39;49m\u001b[43mdraw\u001b[49m\u001b[43m(\u001b[49m\u001b[43mcircuit\u001b[49m\u001b[43m(\u001b[49m\u001b[43m)\u001b[49m\u001b[43m[\u001b[49m\u001b[38;5;241;43m1\u001b[39;49m\u001b[43m]\u001b[49m\u001b[43m)\u001b[49m\u001b[43m(\u001b[49m\u001b[43m)\u001b[49m)\n\u001b[0;32m     16\u001b[0m \u001b[38;5;28;01mreturn\u001b[39;00m \u001b[38;5;28mstr\u001b[39m(\u001b[38;5;28mfloat\u001b[39m(circuit()[\u001b[38;5;241m1\u001b[39m]))\n",
      "File \u001b[1;32mc:\\Users\\danie\\.conda\\envs\\qhack\\Lib\\site-packages\\pennylane\\drawer\\draw.py:230\u001b[0m, in \u001b[0;36mdraw.<locals>.wrapper\u001b[1;34m(*args, **kwargs)\u001b[0m\n\u001b[0;32m    228\u001b[0m \u001b[38;5;129m@wraps\u001b[39m(qnode)\n\u001b[0;32m    229\u001b[0m \u001b[38;5;28;01mdef\u001b[39;00m \u001b[38;5;21mwrapper\u001b[39m(\u001b[38;5;241m*\u001b[39margs, \u001b[38;5;241m*\u001b[39m\u001b[38;5;241m*\u001b[39mkwargs):\n\u001b[1;32m--> 230\u001b[0m     tape \u001b[38;5;241m=\u001b[39m \u001b[43mqml\u001b[49m\u001b[38;5;241;43m.\u001b[39;49m\u001b[43mtape\u001b[49m\u001b[38;5;241;43m.\u001b[39;49m\u001b[43mmake_qscript\u001b[49m\u001b[43m(\u001b[49m\u001b[43mqnode\u001b[49m\u001b[43m)\u001b[49m\u001b[43m(\u001b[49m\u001b[38;5;241;43m*\u001b[39;49m\u001b[43margs\u001b[49m\u001b[43m,\u001b[49m\u001b[43m \u001b[49m\u001b[38;5;241;43m*\u001b[39;49m\u001b[38;5;241;43m*\u001b[39;49m\u001b[43mkwargs\u001b[49m\u001b[43m)\u001b[49m\n\u001b[0;32m    231\u001b[0m     _wire_order \u001b[38;5;241m=\u001b[39m wire_order \u001b[38;5;129;01mor\u001b[39;00m tape\u001b[38;5;241m.\u001b[39mwires\n\u001b[0;32m    233\u001b[0m     \u001b[38;5;28;01mreturn\u001b[39;00m tape_text(\n\u001b[0;32m    234\u001b[0m         tape,\n\u001b[0;32m    235\u001b[0m         wire_order\u001b[38;5;241m=\u001b[39m_wire_order,\n\u001b[1;32m   (...)\u001b[0m\n\u001b[0;32m    239\u001b[0m         max_length\u001b[38;5;241m=\u001b[39mmax_length,\n\u001b[0;32m    240\u001b[0m     )\n",
      "File \u001b[1;32mc:\\Users\\danie\\.conda\\envs\\qhack\\Lib\\site-packages\\pennylane\\tape\\qscript.py:1261\u001b[0m, in \u001b[0;36mmake_qscript.<locals>.wrapper\u001b[1;34m(*args, **kwargs)\u001b[0m\n\u001b[0;32m   1259\u001b[0m \u001b[38;5;28;01mdef\u001b[39;00m \u001b[38;5;21mwrapper\u001b[39m(\u001b[38;5;241m*\u001b[39margs, \u001b[38;5;241m*\u001b[39m\u001b[38;5;241m*\u001b[39mkwargs):\n\u001b[0;32m   1260\u001b[0m     \u001b[38;5;28;01mwith\u001b[39;00m AnnotatedQueue() \u001b[38;5;28;01mas\u001b[39;00m q:\n\u001b[1;32m-> 1261\u001b[0m         \u001b[43mfn\u001b[49m\u001b[43m(\u001b[49m\u001b[38;5;241;43m*\u001b[39;49m\u001b[43margs\u001b[49m\u001b[43m,\u001b[49m\u001b[43m \u001b[49m\u001b[38;5;241;43m*\u001b[39;49m\u001b[38;5;241;43m*\u001b[39;49m\u001b[43mkwargs\u001b[49m\u001b[43m)\u001b[49m\n\u001b[0;32m   1263\u001b[0m     \u001b[38;5;28;01mreturn\u001b[39;00m QuantumScript\u001b[38;5;241m.\u001b[39mfrom_queue(q, shots)\n",
      "\u001b[1;31mTypeError\u001b[0m: 'tensor' object is not callable"
     ]
    }
   ],
   "source": [
    "run('[0,0,1,1,0,1,1,0]')"
   ]
  },
  {
   "cell_type": "code",
   "execution_count": null,
   "metadata": {},
   "outputs": [],
   "source": []
  }
 ],
 "metadata": {
  "kernelspec": {
   "display_name": "qhack",
   "language": "python",
   "name": "python3"
  },
  "language_info": {
   "codemirror_mode": {
    "name": "ipython",
    "version": 3
   },
   "file_extension": ".py",
   "mimetype": "text/x-python",
   "name": "python",
   "nbconvert_exporter": "python",
   "pygments_lexer": "ipython3",
   "version": "3.12.1"
  }
 },
 "nbformat": 4,
 "nbformat_minor": 2
}
